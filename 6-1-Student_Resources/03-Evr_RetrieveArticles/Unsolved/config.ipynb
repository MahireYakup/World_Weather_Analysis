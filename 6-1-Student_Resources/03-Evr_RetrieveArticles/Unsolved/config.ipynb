{
 "cells": [
  {
   "cell_type": "code",
   "execution_count": 1,
   "id": "e6e24e1b",
   "metadata": {},
   "outputs": [],
   "source": [
    "weather_api_key=\"3ad82c31658bab7397b0750f5db46623\""
   ]
  },
  {
   "cell_type": "code",
   "execution_count": null,
   "id": "42e24dea",
   "metadata": {},
   "outputs": [],
   "source": []
  }
 ],
 "metadata": {
  "kernelspec": {
   "display_name": "PythonData",
   "language": "python",
   "name": "pythondata"
  },
  "language_info": {
   "codemirror_mode": {
    "name": "ipython",
    "version": 3
   },
   "file_extension": ".py",
   "mimetype": "text/x-python",
   "name": "python",
   "nbconvert_exporter": "python",
   "pygments_lexer": "ipython3",
   "version": "3.9.7"
  }
 },
 "nbformat": 4,
 "nbformat_minor": 5
}
